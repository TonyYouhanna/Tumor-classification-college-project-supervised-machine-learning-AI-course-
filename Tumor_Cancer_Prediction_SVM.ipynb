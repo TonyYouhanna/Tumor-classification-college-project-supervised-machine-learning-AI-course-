{
  "nbformat": 4,
  "nbformat_minor": 0,
  "metadata": {
    "colab": {
      "name": "Tumor_Cancer_Prediction_SVM.ipynb",
      "provenance": []
    },
    "kernelspec": {
      "name": "python3",
      "display_name": "Python 3"
    },
    "language_info": {
      "name": "python"
    }
  },
  "cells": [
    {
      "cell_type": "code",
      "execution_count": 1,
      "metadata": {
        "id": "5pIMfXbUfJdY"
      },
      "outputs": [],
      "source": [
        "import pandas as pd\n",
        "from sklearn.preprocessing import StandardScaler, LabelEncoder\n",
        "from sklearn.model_selection import train_test_split\n",
        "from sklearn.metrics import accuracy_score\n",
        "from sklearn.svm import SVC"
      ]
    },
    {
      "cell_type": "code",
      "source": [
        "df = pd.read_csv('new_Tumor_Cancer_Prediction_Data.csv')"
      ],
      "metadata": {
        "id": "BsT7Z-IKfZzY"
      },
      "execution_count": 2,
      "outputs": []
    },
    {
      "cell_type": "code",
      "source": [
        "X = df.drop(['diagnosis'], axis = 1)\n",
        "scaler = StandardScaler()\n",
        "X_new = scaler.fit_transform(X)\n",
        "y = df['diagnosis']\n",
        "labelencoder_y = LabelEncoder()\n",
        "y = labelencoder_y.fit_transform(y)\n",
        "X_train, X_test, y_train, y_test = train_test_split(X_new, y, test_size = 0.25, random_state=22)"
      ],
      "metadata": {
        "id": "FD9COB45fpF3"
      },
      "execution_count": 3,
      "outputs": []
    },
    {
      "cell_type": "code",
      "source": [
        "classifier = SVC(kernel = 'linear')\n",
        "classifier.fit(X_train, y_train)\n",
        "y_pred = classifier.predict(X_test)\n",
        "print(\"Accuracy is {}\".format(accuracy_score(y_test, y_pred)))"
      ],
      "metadata": {
        "colab": {
          "base_uri": "https://localhost:8080/"
        },
        "id": "lbDEBnw0jM-m",
        "outputId": "7c0943f0-85c5-4c29-d67d-b7a3f42ceeb7"
      },
      "execution_count": 4,
      "outputs": [
        {
          "output_type": "stream",
          "name": "stdout",
          "text": [
            "Accuracy is 0.9649122807017544\n"
          ]
        }
      ]
    }
  ]
}